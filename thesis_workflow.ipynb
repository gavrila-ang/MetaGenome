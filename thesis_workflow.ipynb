{
 "cells": [
  {
   "cell_type": "markdown",
   "id": "3c37e4f8",
   "metadata": {},
   "source": [
    "# Assembly of the *Hippodamia convergens* genome\n",
    "\n",
    "This workflow outlines the process of assembling the *Hippodamia convergens* genome by utilising genomic data from 20 unsexed beetles (metagenomic data). The genomic data consists of continuous long reads (CLRs) that were generated using the PacBio RS II sequencing platform, resulting in a total of 265 gigabases (Gb) of genomic data. Several genome assembly tools (*Canu*, *wtdbg2*, and *Flye*) were employed to determine which one generates the highest-quality primary assembly. Assembly quality will be based on the 3C criterion of completion, correctness, and contiguity."
   ]
  },
  {
   "cell_type": "markdown",
   "id": "f0b939be",
   "metadata": {},
   "source": [
    "## Step 1: Download genomic data and save as environmental variables"
   ]
  },
  {
   "cell_type": "code",
   "execution_count": null,
   "id": "1d5e0163",
   "metadata": {},
   "outputs": [],
   "source": [
    "# Step 1.1: Create a directory for all assembly tool outputs\n",
    "mkdir pipeline1\n",
    "cd pipeline1 \n",
    "\n",
    "# Step 1.2 Concatenate pacbio long reads\n",
    "cat genomic_data/XDOVE_20201125_S64049_PL100162351-1_B01.subreads.fastq \\\n",
    "genomic_data/SM01-DTG-DNA-566_c1-Cell1.subreads.bam.fastq \\\n",
    "genomic_data/SM01-DTG-DNA-566_c2-Cell1.subreads.bam.fastq > pacbio_all.fastq\n",
    "\n",
    "rm -rf XDOVE_20201125_S64049_PL100162351-1_B01.subreads.fastq \\\n",
    "SM01-DTG-DNA-566_c1-Cell1.subreads.bam.fastq \\\n",
    "SM01-DTG-DNA-566_c2-Cell1.subreads.bam.fastq \\\n",
    "\n",
    "# Step 1.3: Move all genomic data into a folder\n",
    "mkdir genomic_data\n",
    "mv pacbio_all.fastq genomic_data\n",
    "mv haxyr.fa genomic_data\n",
    "\n",
    "# Step 1.4: Set genomic data as environmental variables\n",
    "export pacbio_all=\"/home2/gavrila/work/hcon_assembly/genomic_data/pacbio_all.fastq\" \n",
    "export haxyr=\"/home2/gavrila/work/hcon_assembly/genomic_data/haxyr.fa\""
   ]
  },
  {
   "cell_type": "markdown",
   "id": "b6d378e5",
   "metadata": {},
   "source": [
    "## Step 2: Export tool paths"
   ]
  },
  {
   "cell_type": "code",
   "execution_count": null,
   "id": "970405d7",
   "metadata": {
    "scrolled": false
   },
   "outputs": [],
   "source": [
    "# Step 2.1: Set canu path\n",
    "export PATH=$PATH:/home2/gavrila/work/tools/canu-2.2/bin\n",
    "\n",
    "# Step 2.2: Set purge_dups path\n",
    "export PATH=$PATH:/home2/gavrila/work/tools/purge_dups/bin\n",
    "\n",
    "# Step 2.3: Set minimap2 path\n",
    "export PATH=$PATH:/home2/gavrila/work/tools/minimap2\n",
    "\n",
    "# Step 2.4: Set filtlong path \n",
    "export PATH=$PATH:/home2/gavrila/work/tools/Filtlong/bin \n",
    "\n",
    "# Step 2.5: Set ragtag path\n",
    "export PATH=$PATH:/home2/gavrila/work/tools/ragtag/bin\n",
    "\n",
    "# Step 2.6: Set Augustus path\n",
    "export PATH=$PATH:/home2/gavrila/work/tools/Augustus/bin\n",
    "\n",
    "# Step 2.7: Set AUGUSTUS-helpers path\n",
    "export PATH=$PATH:/home2/gavrila/work/tools/AUGUSTUS-helpers\n",
    "    \n",
    "# Step 2.8: Set wtdbg2 path\n",
    "export PATH=$PATH:/home2/gavrila/work/tools/wtdbg2\n",
    "    \n",
    "# Step 2.9: Set Flye path\n",
    "export PATH=$PATH:/home2/gavrila/work/tools/Flye/bin\n",
    "    \n",
    "# Step 2.10: Set samtools path\n",
    "export PATH=$PATH:/home2/gavrila/work/tools/samtools-1.16.1"
   ]
  },
  {
   "cell_type": "markdown",
   "id": "8580f7f4",
   "metadata": {},
   "source": [
    "## Step 3: Data Preprocessing\n",
    "\n",
    "Prior to genome assembly, the raw sequencing data needs to be preprocessed to remove any low-quality reads, adapters, or contaminants. This step is essential for obtaining accurate and reliable results. Both PacBio CLR reads and Illumina Hi-C paired-end reads have already been processed by DoveTail genomics for the removal of adapters and low-quality reads. All genomic reads are ready for assembly.\n"
   ]
  },
  {
   "cell_type": "markdown",
   "id": "b748d800",
   "metadata": {},
   "source": [
    "## Step 4a : Assembly with *Canu*"
   ]
  },
  {
   "cell_type": "code",
   "execution_count": null,
   "id": "81988ec8",
   "metadata": {},
   "outputs": [],
   "source": [
    "# Step 4a.1: Assembly with Canu\n",
    "canu \\\n",
    " -p canu_assembly -d canu_output \\\n",
    " genomeSize=450m \\\n",
    " -pacbio $pacbio_all\n",
    "echo \"Step 4a.1 complete\" &&\n",
    "\n",
    "# Step 4a.2: BUSCO Check\n",
    "busco -i canu_output/canu_assembly.contigs.fasta  -l endopterygota_odb10 -o canu_output/busco_output -m genome -c 48 &&\n",
    "echo \"Step 4a.2 complete\" &&\n",
    "\n",
    "# Step 4a.3: QUAST Check\n",
    "quast canu_output/canu_assembly.contigs.fasta -o canu_output/quast_output --split-scaffolds &&\n",
    "echo \"Step 4a.3 complete\" &&"
   ]
  },
  {
   "cell_type": "markdown",
   "id": "8da1e3ee",
   "metadata": {},
   "source": [
    "## Step 4b : Assembly with *wtdbg2*"
   ]
  },
  {
   "cell_type": "code",
   "execution_count": null,
   "id": "afab8f43",
   "metadata": {},
   "outputs": [],
   "source": [
    "# Step 4b.1: Create an output folder for purge_dup generated files\n",
    "mkdir wtdbg2_output\n",
    "cd wtdbg2_output\n",
    "echo \"Step 4b.1 complete\" &&\n",
    "\n",
    "# Step 4b.2: Assembly with wtdbg2\n",
    "wtdbg2 -x sq -L 20000 -l 8192 -R -g 450m -i $pacbio_all -t 48 -fo assembly &&\n",
    "echo \"Step 4b.2 complete\" &&\n",
    "\n",
    "# Step 4b.3: Derive consensus\n",
    "wtpoa-cns -t 48 -i assembly.ctg.lay.gz -fo assembly.raw.fa &&\n",
    "echo \"Step 4b.3 complete\" &&\n",
    "\n",
    "# Step 4b.4: Polish consensus using long reads\n",
    "minimap2 -t 48 -ax map-pb -r2k assembly.raw.fa $pacbio_all | samtools sort -@4 > assembly.bam &&\n",
    "samtools view -F0x900 assembly.bam | ./wtpoa-cns -t 48 -d assembly.raw.fa -i - -fo assembly.cns.fa &&\n",
    "echo \"Step 4b.4 complete\" &&\n",
    "\n",
    "# Step 4b.5: Move out of the wtdbg2 folder\n",
    "cd .."
   ]
  },
  {
   "cell_type": "markdown",
   "id": "780502b1",
   "metadata": {},
   "source": [
    "## Step 4c : Assembly with *Flye*"
   ]
  },
  {
   "cell_type": "code",
   "execution_count": null,
   "id": "67406c3b",
   "metadata": {},
   "outputs": [],
   "source": [
    "# Step 4c: Assembly with Flye\n",
    "flye --pacbio-raw $pacbio_all --out-dir flye_output --threads 48 --genome-size 450m --meta --no-alt-contigs &&\n",
    "echo \"Step 4c complete\" &&"
   ]
  },
  {
   "cell_type": "markdown",
   "id": "a020fb93",
   "metadata": {},
   "source": [
    "## Step 5: Assembly Duplication Removal\n",
    "\n",
    "NOTE: The subsequent script was executed for every primary genome assembly. For the sake of brevity, the respective purge_dup scripts for wtdbg2 and Flye were not incorporated into this workflow."
   ]
  },
  {
   "cell_type": "code",
   "execution_count": null,
   "id": "f2a53a2a",
   "metadata": {},
   "outputs": [],
   "source": [
    "# Step 5.1: Create an output folder for purge_dup generated files\n",
    "mkdir purgedup_output\n",
    "cd purgedup_output\n",
    "echo \"Step 5.1 complete\" &&\n",
    "\n",
    "# Step 5.2: Run minimap2 to align pacbio data agains the assembly and generate paf files, \n",
    "minimap2 -t48 -xmap-pb ../canu_output/canu_assembly.fasta \\\n",
    "/userdata/gavrila/XDOVE_20201125_S64049_PL100162351-1_B01.subreads.fastq | gzip -c - > pb1.paf.gz &&\n",
    "echo \"Step 5.2 complete\" &&\n",
    "\n",
    "# Step 5.3: Then run the pbcstat, calcuts functions on it to calculate read depth histogram and base-level read depth\n",
    "pbcstat *.paf.gz &&\n",
    "calcuts PB.stat > cutoffs 2> calcults.log && \n",
    "echo \"Step 5.3 complete\" &&\n",
    "\n",
    "# Step 5.4: Then split the assembly file, do a self alignment\n",
    "split_fa ../canu_output/canu_assembly.fasta > masked_genome.split &&\n",
    "echo \"Step 5.4 complete\" &&\n",
    "\n",
    "# Step 5.5: Run minimap2 for self alignment\n",
    "minimap2 -t48 -xasm5 -DP masked_genome.split masked_genome.split | gzip -c - > masked_genome.split.self.paf.gz &&\n",
    "echo \"Step 5.5 complete\" &&\n",
    "\n",
    "# Step 5.6: Purge haplotigs and overlaps\n",
    "purge_dups -2 -T cutoffs -c PB.base.cov masked_genome.split.self.paf.gz > dups.bed 2> purge_dups.log &&\n",
    "echo \"Step 5.6 complete\" &&\n",
    "\n",
    "# Step 5.7: Get purged primary and haplotig sequences from draft assembly\n",
    "get_seqs -e dups.bed ../canu_output/canu_assembly.fasta &&\n",
    "echo \"Step 5.7 complete\" &&\n",
    "\n",
    "# Step 5.8: BUSCO Check\n",
    "busco -i purged.fa -l endopterygota_odb10 -o busco_output -m genome -c 48 &&\n",
    "echo \"Step 5.8 complete\" &&\n",
    "\n",
    "# Step 5.9: QUAST Check\n",
    "quast purged.fa -o quast_output --split-scaffolds &&\n",
    "echo \"Step 5.9 complete\" &&\n",
    "\n",
    "# Step 5.10: Move out of the purgedup folder\n",
    "cd .."
   ]
  },
  {
   "cell_type": "markdown",
   "id": "f71d7595",
   "metadata": {},
   "source": [
    "Out of all the purged primary assemblies, the purged *Canu* assembly retained the highest BUSCO completion score. Therefore, it was selected for additional polishing."
   ]
  },
  {
   "cell_type": "markdown",
   "id": "5d34019e",
   "metadata": {},
   "source": [
    "## Step 6: Assembly Scaffolding"
   ]
  },
  {
   "cell_type": "code",
   "execution_count": null,
   "id": "432fe105",
   "metadata": {},
   "outputs": [],
   "source": [
    "# Step 6: Run RagTag scaffolding using the harmonia axyridis genome as a reference\n",
    "ragtag.py scaffold $haxyr purgedup_output/purged.fa -o ragtag_scaffold_output &&\n",
    "echo \"Step 6 complete\" &&"
   ]
  },
  {
   "cell_type": "markdown",
   "id": "cd08456e",
   "metadata": {},
   "source": [
    "## Step 7: Assembly Filtering"
   ]
  },
  {
   "cell_type": "code",
   "execution_count": null,
   "id": "5055ad1d",
   "metadata": {},
   "outputs": [],
   "source": [
    "# Step 7.1: Create an output folder for ragtag generated files\n",
    "mkdir ragtag_scaffold_output\n",
    "echo \"Step 7.1 complete\" &&\n",
    "\n",
    "# Step 7.2: Remove all contigs less than 50000 bases long from the scaffolded assembly\n",
    "filtlong --min_length 50000 ragtag_scaffold_output/ragtag.scaffold.fasta > filtlong_output/assembly.fasta &&\n",
    "echo \"Step 7.2 complete\" &&\n",
    "\n",
    "# Step 7.3: Move out of the ragtag folder\n",
    "cd .."
   ]
  },
  {
   "cell_type": "markdown",
   "id": "12f3edd7",
   "metadata": {},
   "source": [
    "## Step 8: Final Assembly Quality Assessment"
   ]
  },
  {
   "cell_type": "code",
   "execution_count": null,
   "id": "8510adec",
   "metadata": {},
   "outputs": [],
   "source": [
    "# Step 8.1: Run BUSCO analysis\n",
    "busco -i filtlong_output/assembly.fasta -l endopterygota_odb10 -o ragtag_scaffold_output/busco_output -m genome -c 48 &&\n",
    "echo \"Step 8.1 complete\" &&\n",
    "\n",
    "# Step 8.2: Run QUAST analysis\n",
    "quast filtlong_output/assembly.fasta -o ragtag_scaffold_output/quast_output --split-scaffolds &&\n",
    "echo \"Step 8.2 complete\" &&"
   ]
  },
  {
   "cell_type": "code",
   "execution_count": null,
   "id": "06da4bd3",
   "metadata": {
    "scrolled": false
   },
   "outputs": [],
   "source": [
    "echo \"Assembly workflow complete\""
   ]
  },
  {
   "cell_type": "markdown",
   "id": "a9d05724",
   "metadata": {},
   "source": [
    "## Conclusion\n",
    "A genome assembly from the sequences of 20 unsexed H. convergens beetles is presented. The genome sequence is 615 megabases in span. The assembly was evaluated using the 3C criterion (completeness, contiguity, and correctness), and achieved a scaffold N50 length of 89 Mb, indicating good contiguity and an overall BUSCO score of 96.1% indicated a high level of completeness. However, 17% of the BUSCOs were found to be duplicated, suggesting room for improvement in genome correctness. "
   ]
  }
 ],
 "metadata": {
  "kernelspec": {
   "display_name": "Python 3 (ipykernel)",
   "language": "python",
   "name": "python3"
  },
  "language_info": {
   "codemirror_mode": {
    "name": "ipython",
    "version": 3
   },
   "file_extension": ".py",
   "mimetype": "text/x-python",
   "name": "python",
   "nbconvert_exporter": "python",
   "pygments_lexer": "ipython3",
   "version": "3.11.2"
  }
 },
 "nbformat": 4,
 "nbformat_minor": 5
}
